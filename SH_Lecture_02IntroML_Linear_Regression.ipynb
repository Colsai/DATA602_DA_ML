{
  "nbformat": 4,
  "nbformat_minor": 0,
  "metadata": {
    "colab": {
      "name": "SH_Lecture 02IntroML_Linear Regression.ipynb",
      "provenance": [],
      "collapsed_sections": [],
      "include_colab_link": true
    },
    "kernelspec": {
      "name": "python3",
      "display_name": "Python 3"
    }
  },
  "cells": [
    {
      "cell_type": "markdown",
      "metadata": {
        "id": "view-in-github",
        "colab_type": "text"
      },
      "source": [
        "<a href=\"https://colab.research.google.com/github/Colsai/DATA602_DA_ML/blob/main/SH_Lecture_02IntroML_Linear_Regression.ipynb\" target=\"_parent\"><img src=\"https://colab.research.google.com/assets/colab-badge.svg\" alt=\"Open In Colab\"/></a>"
      ]
    },
    {
      "cell_type": "markdown",
      "metadata": {
        "id": "ydL_9YWjjWMC"
      },
      "source": [
        "## LINEAR REGRESSION"
      ]
    },
    {
      "cell_type": "code",
      "metadata": {
        "id": "gNktF5vjhozS"
      },
      "source": [
        "#Importing pandas, sklearn, matplotlib, numpy, sklearn linear model.\n",
        "import pandas as pd\n",
        "import numpy as np\n",
        "from sklearn import datasets\n",
        "\n",
        "# from matplotlib import pyplot\n",
        "from matplotlib import pyplot\n",
        "from matplotlib import pylab\n",
        "\n",
        "from sklearn.linear_model import LinearRegression\n",
        "from sklearn.linear_model import Ridge\n",
        "from sklearn.linear_model import Lasso\n",
        "from sklearn.linear_model import ElasticNet"
      ],
      "execution_count": 40,
      "outputs": []
    },
    {
      "cell_type": "markdown",
      "metadata": {
        "id": "iNU0x46WkZmv"
      },
      "source": [
        "First, lets talk about linear regression. The goal is to learn a set of weights $w$ to predict a value $y$, based on a datapoint $x$. If $x$ has $d$ features, this looks like:\n",
        "\n",
        "$$w_1 \\cdot x_1 + w_2 \\cdot x_2 + \\ldots + w_{d-1} \\cdot x_{d-1} + w_d \\cdot x_d = \\hat{y}$$\n",
        "\n",
        "Written with more math-like notation, that becomes\n",
        "\n",
        "$$\\hat{y} = \\sum_{i=1}^d w_i \\cdot x_i = w^T x$$\n"
      ]
    },
    {
      "cell_type": "markdown",
      "metadata": {
        "id": "I85x8dDVk_xc"
      },
      "source": [
        "To learn these weights $w$ we use our training data. We have $n$ datapoints, $x^{(1)}, x^{(2)}, \\ldots, x^{(n)}$ and associated labels $y_1, y_2, \\ldots, y_n$. \n",
        "\n",
        "We will use what is called an ***objective function***. An objective function is a function that describes a score we want to minimize in order to acheive our goal. Designing a good objective function requires some thought we will discuss later in the course. \n",
        "\n",
        "For linear regression, our objective function takes in our training data $X$ and our labels $Y$ is \n",
        "\n",
        "$$L(X, Y) = \\frac{1}{n} \\sum_{i=1}^n \\left(\\underbrace{w^T x^{(i)}}_{\\text{Prediction}} - \\underbrace{y_i}_{\\text{Target}}\\right)^2$$\n",
        "\n",
        "Optimization is done using a gradient, so we a need a gradient (I'm not going to make you do this manuallly)\n",
        "\n",
        "$$\\nabla_w L(X, Y) =  \\frac{1}{n} \\sum_{i=1}^n 2 \\cdot x^{(i)} \\cdot \\underbrace{(w^T x^{(i)}-y_i)}_{\\text{The error}}$$\n",
        "\n",
        "Lets look at some naive code for this. "
      ]
    },
    {
      "cell_type": "code",
      "metadata": {
        "id": "6RCGbFg5QA8v"
      },
      "source": [
        "#Gradiant Step will be looked at later\n",
        "def _gradient_step(w, error, rate = .1):\n",
        "    update = error(w) * rate\n",
        "    return w - update\n",
        "  \n",
        "#Calculates Linear Regression\n",
        "def linear_regression(X,y):\n",
        "  def objective_func(w):\n",
        "    return np.sum((X @ w - y) @ (X @ w - y))/len(y)\n",
        "  def gradient(w):\n",
        "    return np.sum([2*X[i] * (X[i]@w - y[i]) for i in range(y.shape[0])])/len(y)\n",
        "\n",
        "  \n",
        "  #Lets pick some starting value for our weight vector. \n",
        "  w = np.zeros(X.shape[1])\n",
        "  \n",
        "  for i in range(20):\n",
        "    w = _gradient_step(w, gradient)\n",
        "    print(w,objective_func(w))\n",
        "  return w  \n",
        "  "
      ],
      "execution_count": 2,
      "outputs": []
    },
    {
      "cell_type": "markdown",
      "metadata": {
        "id": "5GYNNUsV1oOP"
      },
      "source": [
        "[We will use this function to make a toy regression problem](https://scikit-learn.org/stable/modules/generated/sklearn.datasets.make_regression.html )"
      ]
    },
    {
      "cell_type": "code",
      "metadata": {
        "id": "o8XYhrE1DaNe"
      },
      "source": [
        "#Creates regression data\n",
        "data = datasets.make_regression(100,1,noise = 7)"
      ],
      "execution_count": 41,
      "outputs": []
    },
    {
      "cell_type": "code",
      "metadata": {
        "colab": {
          "base_uri": "https://localhost:8080/"
        },
        "id": "JG-W4CwGyUb6",
        "outputId": "edd7e2d5-2036-4ec2-f4dd-01cbd4c66789"
      },
      "source": [
        "data"
      ],
      "execution_count": 44,
      "outputs": [
        {
          "output_type": "execute_result",
          "data": {
            "text/plain": [
              "(array([[-1.26151854],\n",
              "        [-1.13301872],\n",
              "        [-1.14784521],\n",
              "        [ 1.21920933],\n",
              "        [ 1.16839584],\n",
              "        [-1.62007877],\n",
              "        [-0.18383502],\n",
              "        [ 0.3332172 ],\n",
              "        [ 0.37854768],\n",
              "        [ 1.3088106 ],\n",
              "        [-1.05812216],\n",
              "        [-1.59956145],\n",
              "        [ 0.13100791],\n",
              "        [-0.10381641],\n",
              "        [ 1.04583612],\n",
              "        [ 0.27257253],\n",
              "        [-0.9110102 ],\n",
              "        [ 0.99291314],\n",
              "        [-2.05869198],\n",
              "        [-0.99559876],\n",
              "        [-2.64207723],\n",
              "        [ 1.64226678],\n",
              "        [-2.0583323 ],\n",
              "        [ 0.28785735],\n",
              "        [ 0.68405919],\n",
              "        [-0.37600188],\n",
              "        [-0.61938722],\n",
              "        [ 1.63461167],\n",
              "        [ 0.42424762],\n",
              "        [-0.44785045],\n",
              "        [ 0.61434361],\n",
              "        [ 1.29423821],\n",
              "        [-1.61583234],\n",
              "        [-1.22537196],\n",
              "        [-1.70507082],\n",
              "        [ 0.23840205],\n",
              "        [ 0.41629974],\n",
              "        [-0.30310996],\n",
              "        [ 0.38279809],\n",
              "        [-0.24668869],\n",
              "        [ 0.75454629],\n",
              "        [ 2.10902079],\n",
              "        [ 0.67572377],\n",
              "        [ 0.80827338],\n",
              "        [ 0.10237069],\n",
              "        [ 0.80193406],\n",
              "        [-0.9925613 ],\n",
              "        [-0.17951685],\n",
              "        [ 0.13088949],\n",
              "        [-0.84981901],\n",
              "        [-0.18239812],\n",
              "        [-0.17598203],\n",
              "        [ 0.79350233],\n",
              "        [ 0.66950576],\n",
              "        [ 1.12449735],\n",
              "        [ 0.77454755],\n",
              "        [ 0.95692676],\n",
              "        [-1.64660437],\n",
              "        [ 0.15388607],\n",
              "        [ 0.47189399],\n",
              "        [-1.09476601],\n",
              "        [-0.30346608],\n",
              "        [-1.68387626],\n",
              "        [ 0.11319289],\n",
              "        [-0.52148588],\n",
              "        [ 1.16668149],\n",
              "        [ 0.8092017 ],\n",
              "        [-0.2663757 ],\n",
              "        [-1.14093908],\n",
              "        [-0.02531156],\n",
              "        [ 1.56378961],\n",
              "        [ 0.70669501],\n",
              "        [-0.01549738],\n",
              "        [ 1.25998035],\n",
              "        [-0.7697029 ],\n",
              "        [-1.7203471 ],\n",
              "        [ 1.75831381],\n",
              "        [ 0.37650627],\n",
              "        [-0.79381191],\n",
              "        [-0.05023488],\n",
              "        [ 0.62863439],\n",
              "        [ 0.55257483],\n",
              "        [ 0.92615953],\n",
              "        [-1.78921841],\n",
              "        [-1.69060206],\n",
              "        [-0.42180994],\n",
              "        [-1.76352395],\n",
              "        [ 0.58098824],\n",
              "        [-0.16981977],\n",
              "        [-0.10638192],\n",
              "        [ 1.50269112],\n",
              "        [ 0.61633293],\n",
              "        [-0.41360664],\n",
              "        [-0.45487894],\n",
              "        [ 0.82194643],\n",
              "        [ 1.11611809],\n",
              "        [-0.40324089],\n",
              "        [ 1.27995999],\n",
              "        [ 0.71272845],\n",
              "        [-2.00274702]]),\n",
              " array([ -73.7313654 ,  -64.83665581,  -49.27641097,   60.28572081,\n",
              "          57.61499624,  -87.58122968,   -9.78470017,    6.89841313,\n",
              "          12.9608891 ,   67.60885888,  -62.88429892,  -77.87705697,\n",
              "          11.88333612,   -3.72292334,   63.29677252,   22.91882002,\n",
              "         -58.22425416,   46.05250159, -116.24859637,  -51.29922154,\n",
              "        -138.20747781,   91.68238424, -118.09870014,   19.15808379,\n",
              "          43.49386897,  -19.27824615,  -27.77428465,   94.32264805,\n",
              "          24.23937997,  -25.04959096,   34.91645171,   78.15165726,\n",
              "         -96.79001621,  -71.04415464,  -92.73211014,    4.3049244 ,\n",
              "          26.07788345,  -36.31995741,   27.26783283,   -7.59035074,\n",
              "          43.23944692,  115.60709523,   37.15256219,   33.88292735,\n",
              "          -2.3676833 ,   39.46712499,  -54.54061895,  -18.91933868,\n",
              "           4.39126674,  -28.97461314,  -17.6697699 ,  -11.13847511,\n",
              "          50.44920136,   31.21910134,   62.25020968,   38.34890197,\n",
              "          59.62903021,  -88.53075706,    3.85896912,   32.25967848,\n",
              "         -54.15625191,   -8.53966122,  -88.80627554,    0.51577453,\n",
              "         -33.74625954,   53.29386496,   39.77824372,  -22.36834309,\n",
              "         -57.94372135,   -1.90185539,   87.49297173,   50.19857676,\n",
              "          -6.0554624 ,   81.66032231,  -41.60117424, -102.23153211,\n",
              "          77.98372587,   36.30500218,  -57.04953412,   -3.53096521,\n",
              "          53.19423639,   25.25183363,   51.04707293, -108.56977942,\n",
              "         -94.12283492,  -23.64226723,  -93.18505176,   20.77531718,\n",
              "          -3.81159264,    0.70611654,   90.78498056,   41.00073452,\n",
              "         -34.07534709,  -23.58131079,   45.62488127,   55.94110297,\n",
              "         -13.71620426,   64.84307233,   36.0845749 , -110.53968016]))"
            ]
          },
          "metadata": {},
          "execution_count": 44
        }
      ]
    },
    {
      "cell_type": "code",
      "metadata": {
        "id": "oDEiSpqDT0PG",
        "colab": {
          "base_uri": "https://localhost:8080/"
        },
        "outputId": "152fe0a7-be7b-468d-d9e3-7f0d79639fe1"
      },
      "source": [
        "w = linear_regression(data[0], data[1])"
      ],
      "execution_count": 45,
      "outputs": [
        {
          "output_type": "stream",
          "name": "stdout",
          "text": [
            "[11.94215413] 2054.7354684143193\n",
            "[21.28228852] 1277.3938683489225\n",
            "[28.58734502] 801.8913547332222\n",
            "[34.30073715] 511.0248419467875\n",
            "[38.76926518] 333.10080193021366\n",
            "[42.26416668] 224.26405853011275\n",
            "[44.99758054] 157.688250601988\n",
            "[47.13542373] 116.96360134462657\n",
            "[48.80746234] 92.05219420217595\n",
            "[50.11518832] 76.81380130908634\n",
            "[51.13798005] 67.4924242934755\n",
            "[51.93792051] 61.79050611373359\n",
            "[52.5635657] 58.302623274747155\n",
            "[53.05289201] 56.169073420994835\n",
            "[53.43560132] 54.863973683249824\n",
            "[53.7349239] 54.06563971300466\n",
            "[53.96902849] 53.57729609480072\n",
            "[54.15212513] 53.278574634448375\n",
            "[54.29532771] 53.09584569615851\n",
            "[54.40732855] 52.98406978006211\n"
          ]
        }
      ]
    },
    {
      "cell_type": "code",
      "metadata": {
        "id": "4OqF099tDsAH"
      },
      "source": [
        "#Create dataframe from previous data, then creates column headers 'x' and 'y'.\n",
        "df=pd.DataFrame(data=np.c_[data[0],data[1]], columns=['X','Y'])"
      ],
      "execution_count": 46,
      "outputs": []
    },
    {
      "cell_type": "markdown",
      "metadata": {
        "id": "tQcXBpcN-ind"
      },
      "source": [
        "Now lets solve this linear regression problem using a real implementation. The toy implementation above is just for demonstration, and dosn't have all the features we would want when doing some real machine learning. "
      ]
    },
    {
      "cell_type": "code",
      "metadata": {
        "id": "qVdKXV0vkwEU",
        "colab": {
          "base_uri": "https://localhost:8080/",
          "height": 205
        },
        "outputId": "5fd1f893-8a5e-42a8-d21e-ffce29b9122e"
      },
      "source": [
        "df.head()"
      ],
      "execution_count": 6,
      "outputs": [
        {
          "output_type": "execute_result",
          "data": {
            "text/html": [
              "<div>\n",
              "<style scoped>\n",
              "    .dataframe tbody tr th:only-of-type {\n",
              "        vertical-align: middle;\n",
              "    }\n",
              "\n",
              "    .dataframe tbody tr th {\n",
              "        vertical-align: top;\n",
              "    }\n",
              "\n",
              "    .dataframe thead th {\n",
              "        text-align: right;\n",
              "    }\n",
              "</style>\n",
              "<table border=\"1\" class=\"dataframe\">\n",
              "  <thead>\n",
              "    <tr style=\"text-align: right;\">\n",
              "      <th></th>\n",
              "      <th>X</th>\n",
              "      <th>Y</th>\n",
              "    </tr>\n",
              "  </thead>\n",
              "  <tbody>\n",
              "    <tr>\n",
              "      <th>0</th>\n",
              "      <td>1.072772</td>\n",
              "      <td>51.978555</td>\n",
              "    </tr>\n",
              "    <tr>\n",
              "      <th>1</th>\n",
              "      <td>-0.562058</td>\n",
              "      <td>-40.238369</td>\n",
              "    </tr>\n",
              "    <tr>\n",
              "      <th>2</th>\n",
              "      <td>0.397649</td>\n",
              "      <td>21.851170</td>\n",
              "    </tr>\n",
              "    <tr>\n",
              "      <th>3</th>\n",
              "      <td>-0.072521</td>\n",
              "      <td>10.008840</td>\n",
              "    </tr>\n",
              "    <tr>\n",
              "      <th>4</th>\n",
              "      <td>-0.162372</td>\n",
              "      <td>-1.601852</td>\n",
              "    </tr>\n",
              "  </tbody>\n",
              "</table>\n",
              "</div>"
            ],
            "text/plain": [
              "          X          Y\n",
              "0  1.072772  51.978555\n",
              "1 -0.562058 -40.238369\n",
              "2  0.397649  21.851170\n",
              "3 -0.072521  10.008840\n",
              "4 -0.162372  -1.601852"
            ]
          },
          "metadata": {},
          "execution_count": 6
        }
      ]
    },
    {
      "cell_type": "code",
      "metadata": {
        "colab": {
          "base_uri": "https://localhost:8080/"
        },
        "id": "quLfveYG2k3g",
        "outputId": "f504eaba-6398-4063-c06e-e4915dedf3c4"
      },
      "source": [
        "len(df)"
      ],
      "execution_count": 47,
      "outputs": [
        {
          "output_type": "execute_result",
          "data": {
            "text/plain": [
              "100"
            ]
          },
          "metadata": {},
          "execution_count": 47
        }
      ]
    },
    {
      "cell_type": "code",
      "metadata": {
        "id": "Qxms7xqc-4rm"
      },
      "source": [
        "#Reshape the model\n",
        "X = df['X'].values.reshape(-1, 1) \n",
        "Y = df['Y'].values"
      ],
      "execution_count": 48,
      "outputs": []
    },
    {
      "cell_type": "code",
      "metadata": {
        "id": "n267FrNmWjAN",
        "colab": {
          "base_uri": "https://localhost:8080/"
        },
        "outputId": "406e3380-f4bb-4b02-c2ff-2accd7e66895"
      },
      "source": [
        "lr = LinearRegression()\n",
        "lr.fit(X,Y)"
      ],
      "execution_count": 8,
      "outputs": [
        {
          "output_type": "execute_result",
          "data": {
            "text/plain": [
              "LinearRegression(copy_X=True, fit_intercept=True, n_jobs=None, normalize=False)"
            ]
          },
          "metadata": {},
          "execution_count": 8
        }
      ]
    },
    {
      "cell_type": "code",
      "metadata": {
        "id": "kvT-Mi8AISQE",
        "colab": {
          "base_uri": "https://localhost:8080/"
        },
        "outputId": "e4114129-d5cb-42bf-ec50-ccfe1f1eb2de"
      },
      "source": [
        "#Prints the Coefficient and Intercept (y = aX + B)\n",
        "lr.coef_, lr.intercept_"
      ],
      "execution_count": 9,
      "outputs": [
        {
          "output_type": "execute_result",
          "data": {
            "text/plain": [
              "(array([56.33199739]), 0.35627408645578607)"
            ]
          },
          "metadata": {},
          "execution_count": 9
        }
      ]
    },
    {
      "cell_type": "markdown",
      "metadata": {
        "id": "WtSDg1JV-4KM"
      },
      "source": [
        "The new version has whats called an ***intercept***. We will often denote the intercept as $\\beta$, and it solves a slightly different problem, one where we want something of the form \n",
        "\n",
        "$$\\hat{y} = w^T x + \\beta$$"
      ]
    },
    {
      "cell_type": "code",
      "metadata": {
        "id": "Jaf3_mjTWp_d",
        "colab": {
          "base_uri": "https://localhost:8080/",
          "height": 282
        },
        "outputId": "78462873-952d-4ee4-ec1a-d9c5b2be6dfd"
      },
      "source": [
        "f = lambda x: lr.coef_[0] * x + lr.intercept_\n",
        "steps = list(np.arange(-3,3,.25))\n",
        "fitline = list(map(f, steps))\n",
        "pyplot.plot(steps, fitline,color='red')\n",
        "pyplot.scatter(x=df.X,y=df.Y)"
      ],
      "execution_count": 10,
      "outputs": [
        {
          "output_type": "execute_result",
          "data": {
            "text/plain": [
              "<matplotlib.collections.PathCollection at 0x7faae6fd5a90>"
            ]
          },
          "metadata": {},
          "execution_count": 10
        },
        {
          "output_type": "display_data",
          "data": {
            "image/png": "[encoded data removed]",
            "text/plain": [
              "<Figure size 432x288 with 1 Axes>"
            ]
          },
          "metadata": {
            "needs_background": "light"
          }
        }
      ]
    },
    {
      "cell_type": "markdown",
      "metadata": {
        "id": "fH6KVqDS_JhG"
      },
      "source": [
        "Why would we ever want an intercept term? Lets try some slightly different data"
      ]
    },
    {
      "cell_type": "code",
      "metadata": {
        "id": "wmBSXgc3_NTv"
      },
      "source": [
        "df[\"Y\"] += 40"
      ],
      "execution_count": 11,
      "outputs": []
    },
    {
      "cell_type": "code",
      "metadata": {
        "id": "6boF9_oLAHNk",
        "colab": {
          "base_uri": "https://localhost:8080/",
          "height": 282
        },
        "outputId": "c482b6c2-7041-4c99-b3db-e0dc86323615"
      },
      "source": [
        "lr_a = LinearRegression(fit_intercept=False)\n",
        "lr_a.fit(df['X'].values.reshape(-1, 1),df['Y'])\n",
        "\n",
        "\n",
        "lr_b = LinearRegression(fit_intercept=True)\n",
        "lr_b.fit(df['X'].values.reshape(-1, 1),df['Y'])\n",
        "\n",
        "f = lambda x: lr_a.coef_[0] * x + lr_a.intercept_\n",
        "steps = list(np.arange(-3,3,.25))\n",
        "pyplot.plot(steps, list(map(f, steps)),color='red')\n",
        "\n",
        "f = lambda x: lr_b.coef_[0] * x + lr_b.intercept_\n",
        "steps = list(np.arange(-3,3,.25))\n",
        "pyplot.plot(steps, list(map(f, steps)),color='green')\n",
        "\n",
        "pyplot.scatter(x=df.X,y=df.Y)"
      ],
      "execution_count": 12,
      "outputs": [
        {
          "output_type": "execute_result",
          "data": {
            "text/plain": [
              "<matplotlib.collections.PathCollection at 0x7faae684a990>"
            ]
          },
          "metadata": {},
          "execution_count": 12
        },
        {
          "output_type": "display_data",
          "data": {
            "image/png": "[encoded data removed]",
            "text/plain": [
              "<Figure size 432x288 with 1 Axes>"
            ]
          },
          "metadata": {
            "needs_background": "light"
          }
        }
      ]
    },
    {
      "cell_type": "code",
      "metadata": {
        "id": "CIBY2fOPhzCc"
      },
      "source": [
        "data = datasets.load_boston()"
      ],
      "execution_count": 13,
      "outputs": []
    },
    {
      "cell_type": "code",
      "metadata": {
        "id": "N3U9kgaEiH8H",
        "colab": {
          "base_uri": "https://localhost:8080/"
        },
        "outputId": "7457ec0e-36d7-4701-ced4-9b00994491e6"
      },
      "source": [
        "data"
      ],
      "execution_count": 14,
      "outputs": [
        {
          "output_type": "execute_result",
          "data": {
            "text/plain": [
              "{'DESCR': \".. _boston_dataset:\\n\\nBoston house prices dataset\\n---------------------------\\n\\n**Data Set Characteristics:**  \\n\\n    :Number of Instances: 506 \\n\\n    :Number of Attributes: 13 numeric/categorical predictive. Median Value (attribute 14) is usually the target.\\n\\n    :Attribute Information (in order):\\n        - CRIM     per capita crime rate by town\\n        - ZN       proportion of residential land zoned for lots over 25,000 sq.ft.\\n        - INDUS    proportion of non-retail business acres per town\\n        - CHAS     Charles River dummy variable (= 1 if tract bounds river; 0 otherwise)\\n        - NOX      nitric oxides concentration (parts per 10 million)\\n        - RM       average number of rooms per dwelling\\n        - AGE      proportion of owner-occupied units built prior to 1940\\n        - DIS      weighted distances to five Boston employment centres\\n        - RAD      index of accessibility to radial highways\\n        - TAX      full-value property-tax rate per $10,000\\n        - PTRATIO  pupil-teacher ratio by town\\n        - B        1000(Bk - 0.63)^2 where Bk is the proportion of blacks by town\\n        - LSTAT    % lower status of the population\\n        - MEDV     Median value of owner-occupied homes in $1000's\\n\\n    :Missing Attribute Values: None\\n\\n    :Creator: Harrison, D. and Rubinfeld, D.L.\\n\\nThis is a copy of UCI ML housing dataset.\\nhttps://archive.ics.uci.edu/ml/machine-learning-databases/housing/\\n\\n\\nThis dataset was taken from the StatLib library which is maintained at Carnegie Mellon University.\\n\\nThe Boston house-price data of Harrison, D. and Rubinfeld, D.L. 'Hedonic\\nprices and the demand for clean air', J. Environ. Economics & Management,\\nvol.5, 81-102, 1978.   Used in Belsley, Kuh & Welsch, 'Regression diagnostics\\n...', Wiley, 1980.   N.B. Various transformations are used in the table on\\npages 244-261 of the latter.\\n\\nThe Boston house-price data has been used in many machine learning papers that address regression\\nproblems.   \\n     \\n.. topic:: References\\n\\n   - Belsley, Kuh & Welsch, 'Regression diagnostics: Identifying Influential Data and Sources of Collinearity', Wiley, 1980. 244-261.\\n   - Quinlan,R. (1993). Combining Instance-Based and Model-Based Learning. In Proceedings on the Tenth International Conference of Machine Learning, 236-243, University of Massachusetts, Amherst. Morgan Kaufmann.\\n\",\n",
              " 'data': array([[6.3200e-03, 1.8000e+01, 2.3100e+00, ..., 1.5300e+01, 3.9690e+02,\n",
              "         4.9800e+00],\n",
              "        [2.7310e-02, 0.0000e+00, 7.0700e+00, ..., 1.7800e+01, 3.9690e+02,\n",
              "         9.1400e+00],\n",
              "        [2.7290e-02, 0.0000e+00, 7.0700e+00, ..., 1.7800e+01, 3.9283e+02,\n",
              "         4.0300e+00],\n",
              "        ...,\n",
              "        [6.0760e-02, 0.0000e+00, 1.1930e+01, ..., 2.1000e+01, 3.9690e+02,\n",
              "         5.6400e+00],\n",
              "        [1.0959e-01, 0.0000e+00, 1.1930e+01, ..., 2.1000e+01, 3.9345e+02,\n",
              "         6.4800e+00],\n",
              "        [4.7410e-02, 0.0000e+00, 1.1930e+01, ..., 2.1000e+01, 3.9690e+02,\n",
              "         7.8800e+00]]),\n",
              " 'feature_names': array(['CRIM', 'ZN', 'INDUS', 'CHAS', 'NOX', 'RM', 'AGE', 'DIS', 'RAD',\n",
              "        'TAX', 'PTRATIO', 'B', 'LSTAT'], dtype='<U7'),\n",
              " 'filename': '/usr/local/lib/python3.7/dist-packages/sklearn/datasets/data/boston_house_prices.csv',\n",
              " 'target': array([24. , 21.6, 34.7, 33.4, 36.2, 28.7, 22.9, 27.1, 16.5, 18.9, 15. ,\n",
              "        18.9, 21.7, 20.4, 18.2, 19.9, 23.1, 17.5, 20.2, 18.2, 13.6, 19.6,\n",
              "        15.2, 14.5, 15.6, 13.9, 16.6, 14.8, 18.4, 21. , 12.7, 14.5, 13.2,\n",
              "        13.1, 13.5, 18.9, 20. , 21. , 24.7, 30.8, 34.9, 26.6, 25.3, 24.7,\n",
              "        21.2, 19.3, 20. , 16.6, 14.4, 19.4, 19.7, 20.5, 25. , 23.4, 18.9,\n",
              "        35.4, 24.7, 31.6, 23.3, 19.6, 18.7, 16. , 22.2, 25. , 33. , 23.5,\n",
              "        19.4, 22. , 17.4, 20.9, 24.2, 21.7, 22.8, 23.4, 24.1, 21.4, 20. ,\n",
              "        20.8, 21.2, 20.3, 28. , 23.9, 24.8, 22.9, 23.9, 26.6, 22.5, 22.2,\n",
              "        23.6, 28.7, 22.6, 22. , 22.9, 25. , 20.6, 28.4, 21.4, 38.7, 43.8,\n",
              "        33.2, 27.5, 26.5, 18.6, 19.3, 20.1, 19.5, 19.5, 20.4, 19.8, 19.4,\n",
              "        21.7, 22.8, 18.8, 18.7, 18.5, 18.3, 21.2, 19.2, 20.4, 19.3, 22. ,\n",
              "        20.3, 20.5, 17.3, 18.8, 21.4, 15.7, 16.2, 18. , 14.3, 19.2, 19.6,\n",
              "        23. , 18.4, 15.6, 18.1, 17.4, 17.1, 13.3, 17.8, 14. , 14.4, 13.4,\n",
              "        15.6, 11.8, 13.8, 15.6, 14.6, 17.8, 15.4, 21.5, 19.6, 15.3, 19.4,\n",
              "        17. , 15.6, 13.1, 41.3, 24.3, 23.3, 27. , 50. , 50. , 50. , 22.7,\n",
              "        25. , 50. , 23.8, 23.8, 22.3, 17.4, 19.1, 23.1, 23.6, 22.6, 29.4,\n",
              "        23.2, 24.6, 29.9, 37.2, 39.8, 36.2, 37.9, 32.5, 26.4, 29.6, 50. ,\n",
              "        32. , 29.8, 34.9, 37. , 30.5, 36.4, 31.1, 29.1, 50. , 33.3, 30.3,\n",
              "        34.6, 34.9, 32.9, 24.1, 42.3, 48.5, 50. , 22.6, 24.4, 22.5, 24.4,\n",
              "        20. , 21.7, 19.3, 22.4, 28.1, 23.7, 25. , 23.3, 28.7, 21.5, 23. ,\n",
              "        26.7, 21.7, 27.5, 30.1, 44.8, 50. , 37.6, 31.6, 46.7, 31.5, 24.3,\n",
              "        31.7, 41.7, 48.3, 29. , 24. , 25.1, 31.5, 23.7, 23.3, 22. , 20.1,\n",
              "        22.2, 23.7, 17.6, 18.5, 24.3, 20.5, 24.5, 26.2, 24.4, 24.8, 29.6,\n",
              "        42.8, 21.9, 20.9, 44. , 50. , 36. , 30.1, 33.8, 43.1, 48.8, 31. ,\n",
              "        36.5, 22.8, 30.7, 50. , 43.5, 20.7, 21.1, 25.2, 24.4, 35.2, 32.4,\n",
              "        32. , 33.2, 33.1, 29.1, 35.1, 45.4, 35.4, 46. , 50. , 32.2, 22. ,\n",
              "        20.1, 23.2, 22.3, 24.8, 28.5, 37.3, 27.9, 23.9, 21.7, 28.6, 27.1,\n",
              "        20.3, 22.5, 29. , 24.8, 22. , 26.4, 33.1, 36.1, 28.4, 33.4, 28.2,\n",
              "        22.8, 20.3, 16.1, 22.1, 19.4, 21.6, 23.8, 16.2, 17.8, 19.8, 23.1,\n",
              "        21. , 23.8, 23.1, 20.4, 18.5, 25. , 24.6, 23. , 22.2, 19.3, 22.6,\n",
              "        19.8, 17.1, 19.4, 22.2, 20.7, 21.1, 19.5, 18.5, 20.6, 19. , 18.7,\n",
              "        32.7, 16.5, 23.9, 31.2, 17.5, 17.2, 23.1, 24.5, 26.6, 22.9, 24.1,\n",
              "        18.6, 30.1, 18.2, 20.6, 17.8, 21.7, 22.7, 22.6, 25. , 19.9, 20.8,\n",
              "        16.8, 21.9, 27.5, 21.9, 23.1, 50. , 50. , 50. , 50. , 50. , 13.8,\n",
              "        13.8, 15. , 13.9, 13.3, 13.1, 10.2, 10.4, 10.9, 11.3, 12.3,  8.8,\n",
              "         7.2, 10.5,  7.4, 10.2, 11.5, 15.1, 23.2,  9.7, 13.8, 12.7, 13.1,\n",
              "        12.5,  8.5,  5. ,  6.3,  5.6,  7.2, 12.1,  8.3,  8.5,  5. , 11.9,\n",
              "        27.9, 17.2, 27.5, 15. , 17.2, 17.9, 16.3,  7. ,  7.2,  7.5, 10.4,\n",
              "         8.8,  8.4, 16.7, 14.2, 20.8, 13.4, 11.7,  8.3, 10.2, 10.9, 11. ,\n",
              "         9.5, 14.5, 14.1, 16.1, 14.3, 11.7, 13.4,  9.6,  8.7,  8.4, 12.8,\n",
              "        10.5, 17.1, 18.4, 15.4, 10.8, 11.8, 14.9, 12.6, 14.1, 13. , 13.4,\n",
              "        15.2, 16.1, 17.8, 14.9, 14.1, 12.7, 13.5, 14.9, 20. , 16.4, 17.7,\n",
              "        19.5, 20.2, 21.4, 19.9, 19. , 19.1, 19.1, 20.1, 19.9, 19.6, 23.2,\n",
              "        29.8, 13.8, 13.3, 16.7, 12. , 14.6, 21.4, 23. , 23.7, 25. , 21.8,\n",
              "        20.6, 21.2, 19.1, 20.6, 15.2,  7. ,  8.1, 13.6, 20.1, 21.8, 24.5,\n",
              "        23.1, 19.7, 18.3, 21.2, 17.5, 16.8, 22.4, 20.6, 23.9, 22. , 11.9])}"
            ]
          },
          "metadata": {},
          "execution_count": 14
        }
      ]
    },
    {
      "cell_type": "code",
      "metadata": {
        "id": "i6ISgoxxnA7v",
        "colab": {
          "base_uri": "https://localhost:8080/"
        },
        "outputId": "cac7d162-8d1a-4b1d-b128-a9488d34ce61"
      },
      "source": [
        "print(data.DESCR)"
      ],
      "execution_count": 15,
      "outputs": [
        {
          "output_type": "stream",
          "name": "stdout",
          "text": [
            ".. _boston_dataset:\n",
            "\n",
            "Boston house prices dataset\n",
            "---------------------------\n",
            "\n",
            "**Data Set Characteristics:**  \n",
            "\n",
            "    :Number of Instances: 506 \n",
            "\n",
            "    :Number of Attributes: 13 numeric/categorical predictive. Median Value (attribute 14) is usually the target.\n",
            "\n",
            "    :Attribute Information (in order):\n",
            "        - CRIM     per capita crime rate by town\n",
            "        - ZN       proportion of residential land zoned for lots over 25,000 sq.ft.\n",
            "        - INDUS    proportion of non-retail business acres per town\n",
            "        - CHAS     Charles River dummy variable (= 1 if tract bounds river; 0 otherwise)\n",
            "        - NOX      nitric oxides concentration (parts per 10 million)\n",
            "        - RM       average number of rooms per dwelling\n",
            "        - AGE      proportion of owner-occupied units built prior to 1940\n",
            "        - DIS      weighted distances to five Boston employment centres\n",
            "        - RAD      index of accessibility to radial highways\n",
            "        - TAX      full-value property-tax rate per $10,000\n",
            "        - PTRATIO  pupil-teacher ratio by town\n",
            "        - B        1000(Bk - 0.63)^2 where Bk is the proportion of blacks by town\n",
            "        - LSTAT    % lower status of the population\n",
            "        - MEDV     Median value of owner-occupied homes in $1000's\n",
            "\n",
            "    :Missing Attribute Values: None\n",
            "\n",
            "    :Creator: Harrison, D. and Rubinfeld, D.L.\n",
            "\n",
            "This is a copy of UCI ML housing dataset.\n",
            "https://archive.ics.uci.edu/ml/machine-learning-databases/housing/\n",
            "\n",
            "\n",
            "This dataset was taken from the StatLib library which is maintained at Carnegie Mellon University.\n",
            "\n",
            "The Boston house-price data of Harrison, D. and Rubinfeld, D.L. 'Hedonic\n",
            "prices and the demand for clean air', J. Environ. Economics & Management,\n",
            "vol.5, 81-102, 1978.   Used in Belsley, Kuh & Welsch, 'Regression diagnostics\n",
            "...', Wiley, 1980.   N.B. Various transformations are used in the table on\n",
            "pages 244-261 of the latter.\n",
            "\n",
            "The Boston house-price data has been used in many machine learning papers that address regression\n",
            "problems.   \n",
            "     \n",
            ".. topic:: References\n",
            "\n",
            "   - Belsley, Kuh & Welsch, 'Regression diagnostics: Identifying Influential Data and Sources of Collinearity', Wiley, 1980. 244-261.\n",
            "   - Quinlan,R. (1993). Combining Instance-Based and Model-Based Learning. In Proceedings on the Tenth International Conference of Machine Learning, 236-243, University of Massachusetts, Amherst. Morgan Kaufmann.\n",
            "\n"
          ]
        }
      ]
    },
    {
      "cell_type": "code",
      "metadata": {
        "id": "xYIH9jLziNkp"
      },
      "source": [
        "housing_df = pd.DataFrame(data=np.c_[data['data'], data['target']],columns= list(data['feature_names']) + ['target'])"
      ],
      "execution_count": 16,
      "outputs": []
    },
    {
      "cell_type": "code",
      "metadata": {
        "id": "s4__x4mrjEFi",
        "colab": {
          "base_uri": "https://localhost:8080/",
          "height": 205
        },
        "outputId": "973330f2-7f4d-4acc-dfc3-96cd26cde185"
      },
      "source": [
        "housing_df.head()"
      ],
      "execution_count": 17,
      "outputs": [
        {
          "output_type": "execute_result",
          "data": {
            "text/html": [
              "<div>\n",
              "<style scoped>\n",
              "    .dataframe tbody tr th:only-of-type {\n",
              "        vertical-align: middle;\n",
              "    }\n",
              "\n",
              "    .dataframe tbody tr th {\n",
              "        vertical-align: top;\n",
              "    }\n",
              "\n",
              "    .dataframe thead th {\n",
              "        text-align: right;\n",
              "    }\n",
              "</style>\n",
              "<table border=\"1\" class=\"dataframe\">\n",
              "  <thead>\n",
              "    <tr style=\"text-align: right;\">\n",
              "      <th></th>\n",
              "      <th>CRIM</th>\n",
              "      <th>ZN</th>\n",
              "      <th>INDUS</th>\n",
              "      <th>CHAS</th>\n",
              "      <th>NOX</th>\n",
              "      <th>RM</th>\n",
              "      <th>AGE</th>\n",
              "      <th>DIS</th>\n",
              "      <th>RAD</th>\n",
              "      <th>TAX</th>\n",
              "      <th>PTRATIO</th>\n",
              "      <th>B</th>\n",
              "      <th>LSTAT</th>\n",
              "      <th>target</th>\n",
              "    </tr>\n",
              "  </thead>\n",
              "  <tbody>\n",
              "    <tr>\n",
              "      <th>0</th>\n",
              "      <td>0.00632</td>\n",
              "      <td>18.0</td>\n",
              "      <td>2.31</td>\n",
              "      <td>0.0</td>\n",
              "      <td>0.538</td>\n",
              "      <td>6.575</td>\n",
              "      <td>65.2</td>\n",
              "      <td>4.0900</td>\n",
              "      <td>1.0</td>\n",
              "      <td>296.0</td>\n",
              "      <td>15.3</td>\n",
              "      <td>396.90</td>\n",
              "      <td>4.98</td>\n",
              "      <td>24.0</td>\n",
              "    </tr>\n",
              "    <tr>\n",
              "      <th>1</th>\n",
              "      <td>0.02731</td>\n",
              "      <td>0.0</td>\n",
              "      <td>7.07</td>\n",
              "      <td>0.0</td>\n",
              "      <td>0.469</td>\n",
              "      <td>6.421</td>\n",
              "      <td>78.9</td>\n",
              "      <td>4.9671</td>\n",
              "      <td>2.0</td>\n",
              "      <td>242.0</td>\n",
              "      <td>17.8</td>\n",
              "      <td>396.90</td>\n",
              "      <td>9.14</td>\n",
              "      <td>21.6</td>\n",
              "    </tr>\n",
              "    <tr>\n",
              "      <th>2</th>\n",
              "      <td>0.02729</td>\n",
              "      <td>0.0</td>\n",
              "      <td>7.07</td>\n",
              "      <td>0.0</td>\n",
              "      <td>0.469</td>\n",
              "      <td>7.185</td>\n",
              "      <td>61.1</td>\n",
              "      <td>4.9671</td>\n",
              "      <td>2.0</td>\n",
              "      <td>242.0</td>\n",
              "      <td>17.8</td>\n",
              "      <td>392.83</td>\n",
              "      <td>4.03</td>\n",
              "      <td>34.7</td>\n",
              "    </tr>\n",
              "    <tr>\n",
              "      <th>3</th>\n",
              "      <td>0.03237</td>\n",
              "      <td>0.0</td>\n",
              "      <td>2.18</td>\n",
              "      <td>0.0</td>\n",
              "      <td>0.458</td>\n",
              "      <td>6.998</td>\n",
              "      <td>45.8</td>\n",
              "      <td>6.0622</td>\n",
              "      <td>3.0</td>\n",
              "      <td>222.0</td>\n",
              "      <td>18.7</td>\n",
              "      <td>394.63</td>\n",
              "      <td>2.94</td>\n",
              "      <td>33.4</td>\n",
              "    </tr>\n",
              "    <tr>\n",
              "      <th>4</th>\n",
              "      <td>0.06905</td>\n",
              "      <td>0.0</td>\n",
              "      <td>2.18</td>\n",
              "      <td>0.0</td>\n",
              "      <td>0.458</td>\n",
              "      <td>7.147</td>\n",
              "      <td>54.2</td>\n",
              "      <td>6.0622</td>\n",
              "      <td>3.0</td>\n",
              "      <td>222.0</td>\n",
              "      <td>18.7</td>\n",
              "      <td>396.90</td>\n",
              "      <td>5.33</td>\n",
              "      <td>36.2</td>\n",
              "    </tr>\n",
              "  </tbody>\n",
              "</table>\n",
              "</div>"
            ],
            "text/plain": [
              "      CRIM    ZN  INDUS  CHAS    NOX  ...    TAX  PTRATIO       B  LSTAT  target\n",
              "0  0.00632  18.0   2.31   0.0  0.538  ...  296.0     15.3  396.90   4.98    24.0\n",
              "1  0.02731   0.0   7.07   0.0  0.469  ...  242.0     17.8  396.90   9.14    21.6\n",
              "2  0.02729   0.0   7.07   0.0  0.469  ...  242.0     17.8  392.83   4.03    34.7\n",
              "3  0.03237   0.0   2.18   0.0  0.458  ...  222.0     18.7  394.63   2.94    33.4\n",
              "4  0.06905   0.0   2.18   0.0  0.458  ...  222.0     18.7  396.90   5.33    36.2\n",
              "\n",
              "[5 rows x 14 columns]"
            ]
          },
          "metadata": {},
          "execution_count": 17
        }
      ]
    },
    {
      "cell_type": "code",
      "metadata": {
        "id": "KKioNFycgDb8",
        "colab": {
          "base_uri": "https://localhost:8080/",
          "height": 299
        },
        "outputId": "46ae86ad-b799-4bbf-dc01-7414fcd11e47"
      },
      "source": [
        "housing_df.describe()"
      ],
      "execution_count": 18,
      "outputs": [
        {
          "output_type": "execute_result",
          "data": {
            "text/html": [
              "<div>\n",
              "<style scoped>\n",
              "    .dataframe tbody tr th:only-of-type {\n",
              "        vertical-align: middle;\n",
              "    }\n",
              "\n",
              "    .dataframe tbody tr th {\n",
              "        vertical-align: top;\n",
              "    }\n",
              "\n",
              "    .dataframe thead th {\n",
              "        text-align: right;\n",
              "    }\n",
              "</style>\n",
              "<table border=\"1\" class=\"dataframe\">\n",
              "  <thead>\n",
              "    <tr style=\"text-align: right;\">\n",
              "      <th></th>\n",
              "      <th>CRIM</th>\n",
              "      <th>ZN</th>\n",
              "      <th>INDUS</th>\n",
              "      <th>CHAS</th>\n",
              "      <th>NOX</th>\n",
              "      <th>RM</th>\n",
              "      <th>AGE</th>\n",
              "      <th>DIS</th>\n",
              "      <th>RAD</th>\n",
              "      <th>TAX</th>\n",
              "      <th>PTRATIO</th>\n",
              "      <th>B</th>\n",
              "      <th>LSTAT</th>\n",
              "      <th>target</th>\n",
              "    </tr>\n",
              "  </thead>\n",
              "  <tbody>\n",
              "    <tr>\n",
              "      <th>count</th>\n",
              "      <td>506.000000</td>\n",
              "      <td>506.000000</td>\n",
              "      <td>506.000000</td>\n",
              "      <td>506.000000</td>\n",
              "      <td>506.000000</td>\n",
              "      <td>506.000000</td>\n",
              "      <td>506.000000</td>\n",
              "      <td>506.000000</td>\n",
              "      <td>506.000000</td>\n",
              "      <td>506.000000</td>\n",
              "      <td>506.000000</td>\n",
              "      <td>506.000000</td>\n",
              "      <td>506.000000</td>\n",
              "      <td>506.000000</td>\n",
              "    </tr>\n",
              "    <tr>\n",
              "      <th>mean</th>\n",
              "      <td>3.613524</td>\n",
              "      <td>11.363636</td>\n",
              "      <td>11.136779</td>\n",
              "      <td>0.069170</td>\n",
              "      <td>0.554695</td>\n",
              "      <td>6.284634</td>\n",
              "      <td>68.574901</td>\n",
              "      <td>3.795043</td>\n",
              "      <td>9.549407</td>\n",
              "      <td>408.237154</td>\n",
              "      <td>18.455534</td>\n",
              "      <td>356.674032</td>\n",
              "      <td>12.653063</td>\n",
              "      <td>22.532806</td>\n",
              "    </tr>\n",
              "    <tr>\n",
              "      <th>std</th>\n",
              "      <td>8.601545</td>\n",
              "      <td>23.322453</td>\n",
              "      <td>6.860353</td>\n",
              "      <td>0.253994</td>\n",
              "      <td>0.115878</td>\n",
              "      <td>0.702617</td>\n",
              "      <td>28.148861</td>\n",
              "      <td>2.105710</td>\n",
              "      <td>8.707259</td>\n",
              "      <td>168.537116</td>\n",
              "      <td>2.164946</td>\n",
              "      <td>91.294864</td>\n",
              "      <td>7.141062</td>\n",
              "      <td>9.197104</td>\n",
              "    </tr>\n",
              "    <tr>\n",
              "      <th>min</th>\n",
              "      <td>0.006320</td>\n",
              "      <td>0.000000</td>\n",
              "      <td>0.460000</td>\n",
              "      <td>0.000000</td>\n",
              "      <td>0.385000</td>\n",
              "      <td>3.561000</td>\n",
              "      <td>2.900000</td>\n",
              "      <td>1.129600</td>\n",
              "      <td>1.000000</td>\n",
              "      <td>187.000000</td>\n",
              "      <td>12.600000</td>\n",
              "      <td>0.320000</td>\n",
              "      <td>1.730000</td>\n",
              "      <td>5.000000</td>\n",
              "    </tr>\n",
              "    <tr>\n",
              "      <th>25%</th>\n",
              "      <td>0.082045</td>\n",
              "      <td>0.000000</td>\n",
              "      <td>5.190000</td>\n",
              "      <td>0.000000</td>\n",
              "      <td>0.449000</td>\n",
              "      <td>5.885500</td>\n",
              "      <td>45.025000</td>\n",
              "      <td>2.100175</td>\n",
              "      <td>4.000000</td>\n",
              "      <td>279.000000</td>\n",
              "      <td>17.400000</td>\n",
              "      <td>375.377500</td>\n",
              "      <td>6.950000</td>\n",
              "      <td>17.025000</td>\n",
              "    </tr>\n",
              "    <tr>\n",
              "      <th>50%</th>\n",
              "      <td>0.256510</td>\n",
              "      <td>0.000000</td>\n",
              "      <td>9.690000</td>\n",
              "      <td>0.000000</td>\n",
              "      <td>0.538000</td>\n",
              "      <td>6.208500</td>\n",
              "      <td>77.500000</td>\n",
              "      <td>3.207450</td>\n",
              "      <td>5.000000</td>\n",
              "      <td>330.000000</td>\n",
              "      <td>19.050000</td>\n",
              "      <td>391.440000</td>\n",
              "      <td>11.360000</td>\n",
              "      <td>21.200000</td>\n",
              "    </tr>\n",
              "    <tr>\n",
              "      <th>75%</th>\n",
              "      <td>3.677083</td>\n",
              "      <td>12.500000</td>\n",
              "      <td>18.100000</td>\n",
              "      <td>0.000000</td>\n",
              "      <td>0.624000</td>\n",
              "      <td>6.623500</td>\n",
              "      <td>94.075000</td>\n",
              "      <td>5.188425</td>\n",
              "      <td>24.000000</td>\n",
              "      <td>666.000000</td>\n",
              "      <td>20.200000</td>\n",
              "      <td>396.225000</td>\n",
              "      <td>16.955000</td>\n",
              "      <td>25.000000</td>\n",
              "    </tr>\n",
              "    <tr>\n",
              "      <th>max</th>\n",
              "      <td>88.976200</td>\n",
              "      <td>100.000000</td>\n",
              "      <td>27.740000</td>\n",
              "      <td>1.000000</td>\n",
              "      <td>0.871000</td>\n",
              "      <td>8.780000</td>\n",
              "      <td>100.000000</td>\n",
              "      <td>12.126500</td>\n",
              "      <td>24.000000</td>\n",
              "      <td>711.000000</td>\n",
              "      <td>22.000000</td>\n",
              "      <td>396.900000</td>\n",
              "      <td>37.970000</td>\n",
              "      <td>50.000000</td>\n",
              "    </tr>\n",
              "  </tbody>\n",
              "</table>\n",
              "</div>"
            ],
            "text/plain": [
              "             CRIM          ZN       INDUS  ...           B       LSTAT      target\n",
              "count  506.000000  506.000000  506.000000  ...  506.000000  506.000000  506.000000\n",
              "mean     3.613524   11.363636   11.136779  ...  356.674032   12.653063   22.532806\n",
              "std      8.601545   23.322453    6.860353  ...   91.294864    7.141062    9.197104\n",
              "min      0.006320    0.000000    0.460000  ...    0.320000    1.730000    5.000000\n",
              "25%      0.082045    0.000000    5.190000  ...  375.377500    6.950000   17.025000\n",
              "50%      0.256510    0.000000    9.690000  ...  391.440000   11.360000   21.200000\n",
              "75%      3.677083   12.500000   18.100000  ...  396.225000   16.955000   25.000000\n",
              "max     88.976200  100.000000   27.740000  ...  396.900000   37.970000   50.000000\n",
              "\n",
              "[8 rows x 14 columns]"
            ]
          },
          "metadata": {},
          "execution_count": 18
        }
      ]
    },
    {
      "cell_type": "code",
      "metadata": {
        "id": "WXB0PZc1gG71",
        "colab": {
          "base_uri": "https://localhost:8080/",
          "height": 282
        },
        "outputId": "d6d441d1-beb1-4dfc-d562-e516353d3a60"
      },
      "source": [
        "housing_df.plot.box()"
      ],
      "execution_count": 19,
      "outputs": [
        {
          "output_type": "execute_result",
          "data": {
            "text/plain": [
              "<matplotlib.axes._subplots.AxesSubplot at 0x7faae6780350>"
            ]
          },
          "metadata": {},
          "execution_count": 19
        },
        {
          "output_type": "display_data",
          "data": {
            "image/png": "[encoded data removed]",
            "text/plain": [
              "<Figure size 432x288 with 1 Axes>"
            ]
          },
          "metadata": {
            "needs_background": "light"
          }
        }
      ]
    },
    {
      "cell_type": "code",
      "metadata": {
        "id": "WItcRNQtg4xf",
        "colab": {
          "base_uri": "https://localhost:8080/",
          "height": 282
        },
        "outputId": "268fc5c7-5a3b-4087-fc79-0fcab73ad35a"
      },
      "source": [
        "housing_df[['CHAS','NOX']].plot.box()"
      ],
      "execution_count": 20,
      "outputs": [
        {
          "output_type": "execute_result",
          "data": {
            "text/plain": [
              "<matplotlib.axes._subplots.AxesSubplot at 0x7faae6780310>"
            ]
          },
          "metadata": {},
          "execution_count": 20
        },
        {
          "output_type": "display_data",
          "data": {
            "image/png": "[encoded data removed]",
            "text/plain": [
              "<Figure size 432x288 with 1 Axes>"
            ]
          },
          "metadata": {
            "needs_background": "light"
          }
        }
      ]
    },
    {
      "cell_type": "code",
      "metadata": {
        "id": "zmHwjqhGgUVq",
        "colab": {
          "base_uri": "https://localhost:8080/",
          "height": 1000
        },
        "outputId": "7216d091-e55f-4055-e88b-05b2fe03256f"
      },
      "source": [
        "housing_df.plot.scatter(x='LSTAT',y='target')\n",
        "housing_df.plot.scatter(x='AGE',y='target')\n",
        "housing_df.plot.scatter(x='CHAS',y='target')\n",
        "housing_df.plot.scatter(x='NOX',y='target')"
      ],
      "execution_count": 21,
      "outputs": [
        {
          "output_type": "execute_result",
          "data": {
            "text/plain": [
              "<matplotlib.axes._subplots.AxesSubplot at 0x7faae6430810>"
            ]
          },
          "metadata": {},
          "execution_count": 21
        },
        {
          "output_type": "display_data",
          "data": {
            "image/png": "[encoded data removed]",
            "text/plain": [
              "<Figure size 432x288 with 1 Axes>"
            ]
          },
          "metadata": {
            "needs_background": "light"
          }
        },
        {
          "output_type": "display_data",
          "data": {
            "image/png": "[encoded data removed]",
            "text/plain": [
              "<Figure size 432x288 with 1 Axes>"
            ]
          },
          "metadata": {
            "needs_background": "light"
          }
        },
        {
          "output_type": "display_data",
          "data": {
            "image/png": "[encoded data removed]",
            "text/plain": [
              "<Figure size 432x288 with 1 Axes>"
            ]
          },
          "metadata": {
            "needs_background": "light"
          }
        },
        {
          "output_type": "display_data",
          "data": {
            "image/png": "[encoded data removed]",
            "text/plain": [
              "<Figure size 432x288 with 1 Axes>"
            ]
          },
          "metadata": {
            "needs_background": "light"
          }
        }
      ]
    },
    {
      "cell_type": "code",
      "metadata": {
        "id": "y6LPYtz1xzKB"
      },
      "source": [
        "lr = LinearRegression()\n",
        "X=housing_df[['CRIM',\t'ZN',\t'INDUS',\t'CHAS',\t'NOX',\t'RM',\t'AGE',\t'DIS',\t'RAD',\t'TAX',\t'PTRATIO',\t'B',\t'LSTAT']]\n",
        "y=housing_df['target']"
      ],
      "execution_count": 22,
      "outputs": []
    },
    {
      "cell_type": "code",
      "metadata": {
        "id": "lY6DLO1yx3a1",
        "colab": {
          "base_uri": "https://localhost:8080/"
        },
        "outputId": "9a81572b-a80e-4122-c648-744155c6a2e6"
      },
      "source": [
        "lr.normalize=False\n",
        "lr.fit(X,y)"
      ],
      "execution_count": 23,
      "outputs": [
        {
          "output_type": "execute_result",
          "data": {
            "text/plain": [
              "LinearRegression(copy_X=True, fit_intercept=True, n_jobs=None, normalize=False)"
            ]
          },
          "metadata": {},
          "execution_count": 23
        }
      ]
    },
    {
      "cell_type": "code",
      "metadata": {
        "id": "DOERofvzjLLG",
        "colab": {
          "base_uri": "https://localhost:8080/"
        },
        "outputId": "414d06df-a949-4a75-a2bf-dc7cdfe0bbce"
      },
      "source": [
        "print(lr.predict([X.iloc[501]])*1000)\n",
        "print((np.dot(lr.coef_,X.iloc[501])+lr.intercept_)*1000)\n",
        "print(y.iloc[501]*1000)"
      ],
      "execution_count": 24,
      "outputs": [
        {
          "output_type": "stream",
          "name": "stdout",
          "text": [
            "[23533.34054667]\n",
            "23533.340546667085\n",
            "22400.0\n"
          ]
        }
      ]
    },
    {
      "cell_type": "code",
      "metadata": {
        "id": "yAViweOml_wU",
        "colab": {
          "base_uri": "https://localhost:8080/"
        },
        "outputId": "0a7cb1cd-b8f5-48a0-9da5-78955858d57c"
      },
      "source": [
        "print(lr.score(X,y))\n",
        "help(lr.score)"
      ],
      "execution_count": 25,
      "outputs": [
        {
          "output_type": "stream",
          "name": "stdout",
          "text": [
            "0.7406426641094095\n",
            "Help on method score in module sklearn.base:\n",
            "\n",
            "score(X, y, sample_weight=None) method of sklearn.linear_model._base.LinearRegression instance\n",
            "    Return the coefficient of determination R^2 of the prediction.\n",
            "    \n",
            "    The coefficient R^2 is defined as (1 - u/v), where u is the residual\n",
            "    sum of squares ((y_true - y_pred) ** 2).sum() and v is the total\n",
            "    sum of squares ((y_true - y_true.mean()) ** 2).sum().\n",
            "    The best possible score is 1.0 and it can be negative (because the\n",
            "    model can be arbitrarily worse). A constant model that always\n",
            "    predicts the expected value of y, disregarding the input features,\n",
            "    would get a R^2 score of 0.0.\n",
            "    \n",
            "    Parameters\n",
            "    ----------\n",
            "    X : array-like of shape (n_samples, n_features)\n",
            "        Test samples. For some estimators this may be a\n",
            "        precomputed kernel matrix or a list of generic objects instead,\n",
            "        shape = (n_samples, n_samples_fitted),\n",
            "        where n_samples_fitted is the number of\n",
            "        samples used in the fitting for the estimator.\n",
            "    \n",
            "    y : array-like of shape (n_samples,) or (n_samples, n_outputs)\n",
            "        True values for X.\n",
            "    \n",
            "    sample_weight : array-like of shape (n_samples,), default=None\n",
            "        Sample weights.\n",
            "    \n",
            "    Returns\n",
            "    -------\n",
            "    score : float\n",
            "        R^2 of self.predict(X) wrt. y.\n",
            "    \n",
            "    Notes\n",
            "    -----\n",
            "    The R2 score used when calling ``score`` on a regressor will use\n",
            "    ``multioutput='uniform_average'`` from version 0.23 to keep consistent\n",
            "    with :func:`~sklearn.metrics.r2_score`. This will influence the\n",
            "    ``score`` method of all the multioutput regressors (except for\n",
            "    :class:`~sklearn.multioutput.MultiOutputRegressor`). To specify the\n",
            "    default value manually and avoid the warning, please either call\n",
            "    :func:`~sklearn.metrics.r2_score` directly or make a custom scorer with\n",
            "    :func:`~sklearn.metrics.make_scorer` (the built-in scorer ``'r2'`` uses\n",
            "    ``multioutput='uniform_average'``).\n",
            "\n"
          ]
        }
      ]
    },
    {
      "cell_type": "code",
      "metadata": {
        "id": "20AJZH4_ui4R",
        "colab": {
          "base_uri": "https://localhost:8080/"
        },
        "outputId": "70d1078c-c73e-4d44-fb3f-2bc9d13942af"
      },
      "source": [
        "help(lr.score)"
      ],
      "execution_count": 26,
      "outputs": [
        {
          "output_type": "stream",
          "name": "stdout",
          "text": [
            "Help on method score in module sklearn.base:\n",
            "\n",
            "score(X, y, sample_weight=None) method of sklearn.linear_model._base.LinearRegression instance\n",
            "    Return the coefficient of determination R^2 of the prediction.\n",
            "    \n",
            "    The coefficient R^2 is defined as (1 - u/v), where u is the residual\n",
            "    sum of squares ((y_true - y_pred) ** 2).sum() and v is the total\n",
            "    sum of squares ((y_true - y_true.mean()) ** 2).sum().\n",
            "    The best possible score is 1.0 and it can be negative (because the\n",
            "    model can be arbitrarily worse). A constant model that always\n",
            "    predicts the expected value of y, disregarding the input features,\n",
            "    would get a R^2 score of 0.0.\n",
            "    \n",
            "    Parameters\n",
            "    ----------\n",
            "    X : array-like of shape (n_samples, n_features)\n",
            "        Test samples. For some estimators this may be a\n",
            "        precomputed kernel matrix or a list of generic objects instead,\n",
            "        shape = (n_samples, n_samples_fitted),\n",
            "        where n_samples_fitted is the number of\n",
            "        samples used in the fitting for the estimator.\n",
            "    \n",
            "    y : array-like of shape (n_samples,) or (n_samples, n_outputs)\n",
            "        True values for X.\n",
            "    \n",
            "    sample_weight : array-like of shape (n_samples,), default=None\n",
            "        Sample weights.\n",
            "    \n",
            "    Returns\n",
            "    -------\n",
            "    score : float\n",
            "        R^2 of self.predict(X) wrt. y.\n",
            "    \n",
            "    Notes\n",
            "    -----\n",
            "    The R2 score used when calling ``score`` on a regressor will use\n",
            "    ``multioutput='uniform_average'`` from version 0.23 to keep consistent\n",
            "    with :func:`~sklearn.metrics.r2_score`. This will influence the\n",
            "    ``score`` method of all the multioutput regressors (except for\n",
            "    :class:`~sklearn.multioutput.MultiOutputRegressor`). To specify the\n",
            "    default value manually and avoid the warning, please either call\n",
            "    :func:`~sklearn.metrics.r2_score` directly or make a custom scorer with\n",
            "    :func:`~sklearn.metrics.make_scorer` (the built-in scorer ``'r2'`` uses\n",
            "    ``multioutput='uniform_average'``).\n",
            "\n"
          ]
        }
      ]
    },
    {
      "cell_type": "code",
      "metadata": {
        "id": "C7AJfsr1ygjj",
        "colab": {
          "base_uri": "https://localhost:8080/"
        },
        "outputId": "ff463b4b-3495-43a7-f77d-a9d10f13422b"
      },
      "source": [
        "from sklearn.metrics import mean_squared_error\n",
        "mean_squared_error(y,lr.predict(X))"
      ],
      "execution_count": 27,
      "outputs": [
        {
          "output_type": "execute_result",
          "data": {
            "text/plain": [
              "21.894831181729202"
            ]
          },
          "metadata": {},
          "execution_count": 27
        }
      ]
    },
    {
      "cell_type": "code",
      "metadata": {
        "id": "o-BBxtoKkNCE",
        "colab": {
          "base_uri": "https://localhost:8080/"
        },
        "outputId": "33107dff-ccb5-4697-f142-bc9d894e3467"
      },
      "source": [
        "lr.coef_"
      ],
      "execution_count": 28,
      "outputs": [
        {
          "output_type": "execute_result",
          "data": {
            "text/plain": [
              "array([-1.08011358e-01,  4.64204584e-02,  2.05586264e-02,  2.68673382e+00,\n",
              "       -1.77666112e+01,  3.80986521e+00,  6.92224640e-04, -1.47556685e+00,\n",
              "        3.06049479e-01, -1.23345939e-02, -9.52747232e-01,  9.31168327e-03,\n",
              "       -5.24758378e-01])"
            ]
          },
          "metadata": {},
          "execution_count": 28
        }
      ]
    },
    {
      "cell_type": "code",
      "metadata": {
        "id": "6Q4rZ8oikjzQ",
        "colab": {
          "base_uri": "https://localhost:8080/"
        },
        "outputId": "a3667c83-608c-42f4-c949-e354c7a12ee5"
      },
      "source": [
        "print(housing_df.columns[lr.coef_.argmin()])\n",
        "print(housing_df.columns[lr.coef_.argmax()])"
      ],
      "execution_count": 29,
      "outputs": [
        {
          "output_type": "stream",
          "name": "stdout",
          "text": [
            "NOX\n",
            "RM\n"
          ]
        }
      ]
    },
    {
      "cell_type": "code",
      "metadata": {
        "id": "BAtoVfkEhZs2",
        "colab": {
          "base_uri": "https://localhost:8080/",
          "height": 558
        },
        "outputId": "2cb6f8f0-d0c3-45ff-a6c5-067ab30c2386"
      },
      "source": [
        "housing_df.plot.scatter(x='NOX',y='target')\n",
        "housing_df.plot.scatter(x='RM',y='target')"
      ],
      "execution_count": 30,
      "outputs": [
        {
          "output_type": "execute_result",
          "data": {
            "text/plain": [
              "<matplotlib.axes._subplots.AxesSubplot at 0x7faae43449d0>"
            ]
          },
          "metadata": {},
          "execution_count": 30
        },
        {
          "output_type": "display_data",
          "data": {
            "image/png": "[encoded data removed]",
            "text/plain": [
              "<Figure size 432x288 with 1 Axes>"
            ]
          },
          "metadata": {
            "needs_background": "light"
          }
        },
        {
          "output_type": "display_data",
          "data": {
            "image/png": "[encoded data removed]",
            "text/plain": [
              "<Figure size 432x288 with 1 Axes>"
            ]
          },
          "metadata": {
            "needs_background": "light"
          }
        }
      ]
    },
    {
      "cell_type": "markdown",
      "metadata": {
        "id": "M_-kYL5kgqWW"
      },
      "source": [
        "# Ridge Regression (**Reguralization**)"
      ]
    },
    {
      "cell_type": "markdown",
      "metadata": {
        "id": "_flQ90qxX8az"
      },
      "source": [
        "For this next section, we will look at another toy problem. The goal here is to show a problem, and that the Ridge can help us solve this problem"
      ]
    },
    {
      "cell_type": "code",
      "metadata": {
        "id": "lhmJLfcUVe8p"
      },
      "source": [
        "from sklearn.pipeline import Pipeline\n",
        "from sklearn.preprocessing import PolynomialFeatures"
      ],
      "execution_count": 31,
      "outputs": []
    },
    {
      "cell_type": "code",
      "metadata": {
        "id": "TPlAWRSGV-94"
      },
      "source": [
        "def true_fun(X):\n",
        "    return np.cos(1.5 * np.pi * X)\n",
        "  \n",
        "n_samples = 30\n",
        "\n",
        "X = np.sort(np.random.rand(n_samples))\n",
        "y = true_fun(X) + np.random.randn(n_samples) * 0.2"
      ],
      "execution_count": 32,
      "outputs": []
    },
    {
      "cell_type": "code",
      "metadata": {
        "id": "WdYHlAC-eEra",
        "colab": {
          "base_uri": "https://localhost:8080/",
          "height": 300
        },
        "outputId": "76e533f5-47a2-4c79-d680-b8db2468f3f6"
      },
      "source": [
        "polynomial_features = PolynomialFeatures(degree=30,include_bias=False)\n",
        "linear = Pipeline([(\"polynomial_features\", polynomial_features),\n",
        "                         (\"linear_regression\", LinearRegression())])\n",
        "\n",
        "\n",
        "linear.fit(X[:, np.newaxis], y)\n",
        "\n",
        "X_test = np.linspace(0, 1, 100)\n",
        "pyplot.plot(X_test, linear.predict(X_test[:, np.newaxis]), label=\"Linear Model\")\n",
        "pyplot.plot(X_test, true_fun(X_test), label=\"True function\")\n",
        "pyplot.scatter(X, y, edgecolor='b', s=20, label=\"Samples\")\n",
        "pyplot.xlabel(\"x\")\n",
        "pyplot.ylabel(\"y\")\n",
        "pyplot.xlim((0, 1))\n",
        "pyplot.ylim((-2, 2))\n",
        "pyplot.legend(loc=\"best\")"
      ],
      "execution_count": 33,
      "outputs": [
        {
          "output_type": "execute_result",
          "data": {
            "text/plain": [
              "<matplotlib.legend.Legend at 0x7faae4299dd0>"
            ]
          },
          "metadata": {},
          "execution_count": 33
        },
        {
          "output_type": "display_data",
          "data": {
            "image/png": "[encoded data removed]",
            "text/plain": [
              "<Figure size 432x288 with 1 Axes>"
            ]
          },
          "metadata": {
            "needs_background": "light"
          }
        }
      ]
    },
    {
      "cell_type": "markdown",
      "metadata": {
        "id": "ygXrmDVhYMqE"
      },
      "source": [
        "Wow, that does not look like a good fit! What went wrong? Lets look at the coefficents of our model. The regression model is the 2nd item in our pipeline above."
      ]
    },
    {
      "cell_type": "code",
      "metadata": {
        "id": "vz7DvPywYU4I",
        "colab": {
          "base_uri": "https://localhost:8080/"
        },
        "outputId": "7ae61b5c-0c8b-4af5-9dfd-284ca1e8024e"
      },
      "source": [
        "print(linear.steps[1][1].coef_)\n",
        "print(np.linalg.norm(linear.steps[1][1].coef_))"
      ],
      "execution_count": 34,
      "outputs": [
        {
          "output_type": "stream",
          "name": "stdout",
          "text": [
            "[ 5.53780312e+04 -2.32477450e+06  5.43242472e+07 -8.02177091e+08\n",
            "  8.02224325e+09 -5.65613576e+10  2.87242514e+11 -1.05676696e+12\n",
            "  2.78156791e+12 -5.01421851e+12  5.44494980e+12 -1.77194849e+12\n",
            " -3.35137232e+12  3.14054073e+12  2.17015734e+12 -2.90144717e+12\n",
            " -2.22793482e+12  2.10961325e+12  2.73198649e+12 -8.21905653e+11\n",
            " -2.93722253e+12 -7.45286690e+11  2.42125181e+12  2.04131335e+12\n",
            " -1.38605173e+12 -2.72740437e+12  6.73995536e+11  3.18481429e+12\n",
            " -2.61239245e+12  6.15808319e+11]\n",
            "12845955665052.416\n"
          ]
        }
      ]
    },
    {
      "cell_type": "markdown",
      "metadata": {
        "id": "lMe-GuhsYrOJ"
      },
      "source": [
        "Notice a problem? Hint, look at the e+ term... "
      ]
    },
    {
      "cell_type": "code",
      "metadata": {
        "id": "5yIjmzfseIse",
        "colab": {
          "base_uri": "https://localhost:8080/",
          "height": 300
        },
        "outputId": "33ecdea8-6d85-427b-fb9e-40c88666681d"
      },
      "source": [
        "regularization_penalty = 0.05\n",
        "polynomial_features = PolynomialFeatures(degree=3,include_bias=False)\n",
        "linear_ridge = Pipeline([(\"polynomial_features\", polynomial_features),\n",
        "                         (\"linear_regression\", Ridge(alpha=.05))])\n",
        "\n",
        "\n",
        "linear_ridge.fit(X[:, np.newaxis], y)\n",
        "\n",
        "X_test = np.linspace(0, 1, 100)\n",
        "pyplot.plot(X_test, linear_ridge.predict(X_test[:, np.newaxis]), label=\"Ridge Model \" + str(regularization_penalty) )\n",
        "pyplot.plot(X_test, true_fun(X_test), label=\"True function\")\n",
        "pyplot.scatter(X, y, edgecolor='b', s=20, label=\"Samples\")\n",
        "pyplot.xlabel(\"x\")\n",
        "pyplot.ylabel(\"y\")\n",
        "pyplot.xlim((0, 1))\n",
        "pyplot.ylim((-2, 2))\n",
        "pyplot.legend(loc=\"best\")"
      ],
      "execution_count": 35,
      "outputs": [
        {
          "output_type": "execute_result",
          "data": {
            "text/plain": [
              "<matplotlib.legend.Legend at 0x7faae41f9cd0>"
            ]
          },
          "metadata": {},
          "execution_count": 35
        },
        {
          "output_type": "display_data",
          "data": {
            "image/png": "[encoded data removed]",
            "text/plain": [
              "<Figure size 432x288 with 1 Axes>"
            ]
          },
          "metadata": {
            "needs_background": "light"
          }
        }
      ]
    },
    {
      "cell_type": "code",
      "metadata": {
        "id": "eRKKEq-RY1LI",
        "colab": {
          "base_uri": "https://localhost:8080/"
        },
        "outputId": "e8e51f28-113b-469f-c464-26d99faa009f"
      },
      "source": [
        "linear_ridge.steps[1][1].coef_"
      ],
      "execution_count": 36,
      "outputs": [
        {
          "output_type": "execute_result",
          "data": {
            "text/plain": [
              "array([-4.18782922, -0.29673739,  2.71321664])"
            ]
          },
          "metadata": {},
          "execution_count": 36
        }
      ]
    },
    {
      "cell_type": "code",
      "metadata": {
        "id": "Aylh4-_0slkA",
        "colab": {
          "base_uri": "https://localhost:8080/"
        },
        "outputId": "1ea6c5a1-08ac-4c0f-9e6a-113bf0af62b6"
      },
      "source": [
        "np.linalg.norm(linear_ridge.steps[1][1].coef_)"
      ],
      "execution_count": 37,
      "outputs": [
        {
          "output_type": "execute_result",
          "data": {
            "text/plain": [
              "4.998750962969997"
            ]
          },
          "metadata": {},
          "execution_count": 37
        }
      ]
    },
    {
      "cell_type": "markdown",
      "metadata": {
        "id": "YKADRwsNY-gL"
      },
      "source": [
        "The coefficents for the Ridge solution are much more reasonable values! Why is thath? How would you make that happen?"
      ]
    },
    {
      "cell_type": "markdown",
      "metadata": {
        "id": "JkbRSvCXsSIQ"
      },
      "source": [
        "$$\\|w\\|_2 = \\sqrt{\\sum_{i=1}^d w_i^2}$$"
      ]
    },
    {
      "cell_type": "markdown",
      "metadata": {
        "id": "7U14RLoUZF8X"
      },
      "source": [
        "By changing the objective function! Ridge changes it to become\n",
        "\n",
        "$$L(X, Y) = \\overbrace{\\frac{1}{n} \\sum_{i=1}^n \\left(w^T x^{(i)} - y_i\\right)^2}^{\\text{Original Linear Regression Objective}} + \\alpha \\cdot \\|w\\|_2^2$$\n",
        "\n",
        "This new $\\alpha \\cdot \\|w\\|_2^2$ term is called a ***regularizer***, and penalizes the model for having large weights! Hence, we now get smaller weights. \n",
        "\n",
        "Why do we *want* smaller weights?\n",
        "\n",
        "What if the weights *should* be big? "
      ]
    },
    {
      "cell_type": "code",
      "metadata": {
        "id": "vZdeDa7EkGag"
      },
      "source": [
        ""
      ],
      "execution_count": 37,
      "outputs": []
    },
    {
      "cell_type": "code",
      "metadata": {
        "id": "hh4-66v-1TNI"
      },
      "source": [
        ""
      ],
      "execution_count": 37,
      "outputs": []
    }
  ]
}